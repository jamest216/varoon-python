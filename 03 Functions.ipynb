{
 "cells": [
  {
   "cell_type": "markdown",
   "metadata": {
    "slideshow": {
     "slide_type": "slide"
    }
   },
   "source": [
    "# Python Functions"
   ]
  },
  {
   "cell_type": "markdown",
   "metadata": {
    "slideshow": {
     "slide_type": "subslide"
    }
   },
   "source": [
    "## Functions\n",
    "\n",
    "* Starts with keyword `def`\n",
    "* Function is given a name\n",
    "* Can include zero or more parameters for passing data in\n",
    "* To invoke, use name + arguments in parenthese"
   ]
  },
  {
   "cell_type": "code",
   "execution_count": 1,
   "metadata": {},
   "outputs": [
    {
     "name": "stdout",
     "output_type": "stream",
     "text": [
      "do something 2\n",
      "abc\n"
     ]
    }
   ],
   "source": [
    "def myfunc(x):\n",
    "    print('do something', x)\n",
    "    if x == 1:\n",
    "        return True\n",
    "    else:\n",
    "        return 'abc'\n",
    "    \n",
    "print(myfunc(2))"
   ]
  },
  {
   "cell_type": "markdown",
   "metadata": {},
   "source": [
    "## Documentation strings\n",
    "\n",
    "* Often functions will include documentation strings as first statement\n",
    "* Provides info about the function's intent\n",
    "* Can be used to feed the `help()` command "
   ]
  },
  {
   "cell_type": "code",
   "execution_count": 1,
   "metadata": {},
   "outputs": [
    {
     "name": "stdout",
     "output_type": "stream",
     "text": [
      "Help on function calc_subtotal in module __main__:\n",
      "\n",
      "calc_subtotal(quantity, unit_cost)\n",
      "    Computes subtotal for an order\n",
      "\n"
     ]
    }
   ],
   "source": [
    "def calc_subtotal(quantity, unit_cost):\n",
    "    '''\n",
    "    Computes subtotal for an order\n",
    "    '''\n",
    "    return quantity * unit_cost\n",
    "\n",
    "help(calc_subtotal)"
   ]
  },
  {
   "cell_type": "markdown",
   "metadata": {},
   "source": [
    "## ...functions return __`None`__ if return not invoked"
   ]
  },
  {
   "cell_type": "code",
   "execution_count": 3,
   "metadata": {
    "scrolled": true
   },
   "outputs": [
    {
     "name": "stdout",
     "output_type": "stream",
     "text": [
      "do something 35\n",
      "None\n"
     ]
    }
   ],
   "source": [
    "def myfunc(x):\n",
    "    print('do something', x)\n",
    "\n",
    "print(myfunc(35))"
   ]
  },
  {
   "cell_type": "markdown",
   "metadata": {},
   "source": [
    "## What is __`None`__?\n",
    "* It acts like __`False`__, but it's a different object"
   ]
  },
  {
   "cell_type": "code",
   "execution_count": 3,
   "metadata": {},
   "outputs": [
    {
     "name": "stdout",
     "output_type": "stream",
     "text": [
      "do something 2\n",
      "False branch of if\n"
     ]
    }
   ],
   "source": [
    "def myfunc(x):\n",
    "    print('do something', x)\n",
    "\n",
    "retval = myfunc(2)\n",
    "if retval:\n",
    "    print('True branch of if')\n",
    "else:\n",
    "    print('False branch of if')"
   ]
  },
  {
   "cell_type": "code",
   "execution_count": 7,
   "metadata": {},
   "outputs": [
    {
     "name": "stdout",
     "output_type": "stream",
     "text": [
      "do something 2\n",
      "preferred over retval == None\n"
     ]
    },
    {
     "data": {
      "text/plain": [
       "(9484816, 9474016)"
      ]
     },
     "execution_count": 7,
     "metadata": {},
     "output_type": "execute_result"
    }
   ],
   "source": [
    "def myfunc(x):\n",
    "    print('do something', x)\n",
    "\n",
    "retval = myfunc(2)\n",
    "\n",
    "if retval is None:\n",
    "    print('preferred over retval == None')\n",
    "if None == False:\n",
    "    print('no!')\n",
    "id(None), id(False)"
   ]
  },
  {
   "cell_type": "markdown",
   "metadata": {
    "slideshow": {
     "slide_type": "subslide"
    }
   },
   "source": [
    "## Scope \n",
    "* Python is _NOT_ block scoped"
   ]
  },
  {
   "cell_type": "code",
   "execution_count": 6,
   "metadata": {
    "slideshow": {
     "slide_type": "subslide"
    }
   },
   "outputs": [
    {
     "name": "stdout",
     "output_type": "stream",
     "text": [
      "outside the block, x = global x\n",
      "---> in func\n",
      "x = func x\n",
      "local x = func x\n",
      "global x = global x\n",
      "---> leaving func\n",
      "in main, after func call, x = global x\n",
      "---> inside second func\n",
      "x = new global x\n",
      "---> leaving second func, x = new global x\n",
      "in main, after second func call, x = new global x\n"
     ]
    }
   ],
   "source": [
    "if True:\n",
    "    x = 'global x' # x will persist outside this block\n",
    "\n",
    "print(\"outside the block, x =\", x)\n",
    "\n",
    "def func():\n",
    "    print(\"---> in func\")\n",
    "    x = 'func x' # declare var inside function\n",
    "    print(\"x =\", x)\n",
    "    d = locals()\n",
    "    print(\"local x =\", d['x'])\n",
    "    d = globals()\n",
    "    print(\"global x =\", d['x'])\n",
    "    print(\"---> leaving func\")\n",
    "\n",
    "func()\n",
    "\n",
    "print(\"in main, after func call, x =\", x)\n",
    "\n",
    "def func():\n",
    "    print(\"---> inside second func\")\n",
    "    # can access global variables here\n",
    "    # print(\"x =\", x)\n",
    "    # ...but to change them, we need to bind\n",
    "    # the name 'x' to the global var instead\n",
    "    # of a new local var...\n",
    "    global x\n",
    "    x = 'new global x'\n",
    "    print(\"x =\", x)\n",
    "    print(\"---> leaving second func, x =\", x)\n",
    "\n",
    "func()\n",
    "print(\"in main, after second func call, x =\", x)"
   ]
  },
  {
   "cell_type": "markdown",
   "metadata": {},
   "source": [
    "## Returning values from a function\n",
    "\n",
    "* In Python, you can return multiple values from a function\n",
    "* Wrap the return values in `()` and separate each with a comma\n",
    "* Returns what's known as a `tuple` in Python"
   ]
  },
  {
   "cell_type": "code",
   "execution_count": 5,
   "metadata": {},
   "outputs": [
    {
     "name": "stdout",
     "output_type": "stream",
     "text": [
      "15.95\n",
      "36.3\n"
     ]
    }
   ],
   "source": [
    "def addmul(op1, op2):\n",
    "    return (op1 + op2, op1 * op2)\n",
    "\n",
    "sum, product = addmul(2.75, 13.2)\n",
    "print(sum)\n",
    "print(product)"
   ]
  },
  {
   "cell_type": "markdown",
   "metadata": {},
   "source": [
    "## Parameter default values\n",
    "\n",
    "* To give a parameter a default value, use assignment\n",
    "* Parameters given defaults can be omitted from calls to function\n",
    "* Omitted arguments will take on default value\n",
    "* When calling, arguments can be named - can help with readability"
   ]
  },
  {
   "cell_type": "code",
   "execution_count": 10,
   "metadata": {},
   "outputs": [
    {
     "name": "stdout",
     "output_type": "stream",
     "text": [
      "Hitting...www.python.org:80...Finish before 300 milliseconds!!\n",
      "Hitting...www.python.org:80...Finish before 500 milliseconds!!\n",
      "Hitting...www.python.org:443...Finish before 1000 milliseconds!!\n"
     ]
    }
   ],
   "source": [
    "def connect(hostname, port, timeout = 300):\n",
    "    '''\n",
    "    Simulates connectivity to a host on a port \n",
    "    '''\n",
    "    print('Hitting...', end='')\n",
    "    print(f'{hostname}:{port}...', end='')\n",
    "    print(f'Finish before {timeout} milliseconds!!')\n",
    "    return\n",
    "\n",
    "connect('www.python.org', 80)\n",
    "connect('www.python.org', 80, 500)\n",
    "connect(timeout = 1000, hostname = 'www.python.org', port = 443)  # when named, order doesn't matter"
   ]
  },
  {
   "cell_type": "markdown",
   "metadata": {},
   "source": [
    "## Exercise One\n",
    "\n",
    "* Update your Python program for order processing\n",
    "* Create a function to handle the calculations\n",
    "* Call the function, passing the inputs from the user\n",
    "* Fully encapsulate the discount algorithm and calculations within the function\n",
    "* Return subtotal, total including tax, and final total after discount from the function\n"
   ]
  },
  {
   "cell_type": "code",
   "execution_count": 15,
   "metadata": {},
   "outputs": [
    {
     "name": "stdout",
     "output_type": "stream",
     "text": [
      "You recieved a 25% discount\n",
      "Total (without discount & tax): $500.00\n",
      "Total (with discount & without tax): $625.00\n",
      "Total (with discount & tax): $671.88\n"
     ]
    }
   ],
   "source": [
    "#naming variables\n",
    "dcount = 0\n",
    "finaldcount = 0\n",
    "tax_rate = 0.075\n",
    "\n",
    "#function for calculating the discount\n",
    "def calc_dcount(quantity):\n",
    "    if (quantity >= 50 and quantity < 100):\n",
    "        print('You recieved a 10% discount')\n",
    "        return .1       \n",
    "    elif (quantity >= 100):\n",
    "        print('You recieved a 25% discount')\n",
    "        return .25\n",
    "    else:\n",
    "        return 0\n",
    "\n",
    "#function for calculating totals\n",
    "def calc_total(quantity, unitCost, dcount):\n",
    "    subtotal = quantity * unitCost\n",
    "    finaldcount = dcount * subtotal\n",
    "    total = subtotal + finaldcount\n",
    "\n",
    "    return subtotal, total\n",
    "\n",
    "#asking for user input\n",
    "pnum = int(input('what part number? '))\n",
    "quantity = int(input('How many are you purchasing? '))\n",
    "unitCost = float(input('What is the unit cost? '))\n",
    "\n",
    "#making call to functions\n",
    "subtotal, total = calc_total(quantity,unitCost,calc_dcount(quantity))\n",
    "\n",
    "#print statements\n",
    "print(f'Total (without discount & tax): ${subtotal:,.2f}')\n",
    "print(f'Total (with discount & without tax): ${total:,.2f}')\n",
    "print(f'Total (with discount & tax): ${total * (1 + tax_rate):,.2f}')"
   ]
  },
  {
   "cell_type": "markdown",
   "metadata": {},
   "source": [
    "## Exercise Two\n",
    "\n",
    "* Create a function called circleinfo for calculating area and circumference of a circle\n",
    "* The function should accept a parameter for radius\n",
    "* Return area and circumference from the function\n",
    "* Area is calculated as Pi * radius * radius\n",
    "* Circumference is calculated as 2 * Pi * radius\n",
    "* **Hint**: Use math.pi() to get the value for Pi in the formulae (https://www.delftstack.com/howto/python/pi-in-python/#:~:text=Use%20Pi%20in%20Python.%201%20Use%20the%20math.pi,to%20Get%20the%20Pi%20Value%20in%20Python.%20)"
   ]
  },
  {
   "cell_type": "code",
   "execution_count": 16,
   "metadata": {},
   "outputs": [
    {
     "name": "stdout",
     "output_type": "stream",
     "text": [
      "===|Circle Stats|===\n",
      "Area: 2,642.08\n",
      "Circumference: 182.21\n"
     ]
    }
   ],
   "source": [
    "import math\n",
    "\n",
    "def areaAndCirc(r):\n",
    "    ''' function for calc area & circ'''\n",
    "    area = math.pi * r * r\n",
    "    circ = 2 * math.pi * r\n",
    "    return area, circ\n",
    "\n",
    "#asking for user input and calling the functon\n",
    "ans = float(input('what radius is your circle?'))\n",
    "finalArea, finalCirc = areaAndCirc(ans)\n",
    "\n",
    "#print statements\n",
    "print('===|Circle Stats|===')\n",
    "print(f'Area: {finalArea:,.2f}')\n",
    "print(f'Circumference: {finalCirc:,.2f}')"
   ]
  },
  {
   "cell_type": "code",
   "execution_count": null,
   "metadata": {},
   "outputs": [],
   "source": []
  }
 ],
 "metadata": {
  "celltoolbar": "Slideshow",
  "interpreter": {
   "hash": "8464311b6cd02531cc83d752491de256d0b522e7c388c7b72d58a29deff5d2dd"
  },
  "kernelspec": {
   "display_name": "Python 3 (ipykernel)",
   "language": "python",
   "name": "python3"
  },
  "language_info": {
   "codemirror_mode": {
    "name": "ipython",
    "version": 3
   },
   "file_extension": ".py",
   "mimetype": "text/x-python",
   "name": "python",
   "nbconvert_exporter": "python",
   "pygments_lexer": "ipython3",
   "version": "3.8.10"
  }
 },
 "nbformat": 4,
 "nbformat_minor": 1
}
